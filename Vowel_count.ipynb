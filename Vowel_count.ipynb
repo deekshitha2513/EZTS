{
 "cells": [
  {
   "cell_type": "code",
   "execution_count": 1,
   "id": "1ddbc721",
   "metadata": {},
   "outputs": [
    {
     "name": "stdout",
     "output_type": "stream",
     "text": [
      "{'Deekshu': ['O'], 'Putti': ['A'], 'Bhanu': ['I', 'O'], 'Harshi': ['O'], 'Vishwa': ['I']}\n"
     ]
    }
   ],
   "source": [
    "#Vowel_count\n",
    "\n",
    "\n",
    "def count_vowel(S):\n",
    "    dic = {'A': 0, 'E': 0, 'I': 0, 'O': 0, 'U': 0}\n",
    "    for i in S:\n",
    "        if i == 'a' or i == 'A':\n",
    "            dic['A'] += 1\n",
    "        elif i == 'e' or i == 'E':\n",
    "            dic['E'] += 1\n",
    "        elif i == 'i' or i == 'I':\n",
    "            dic['I'] += 1\n",
    "        elif i == 'o' or i == 'O':\n",
    "            dic['O'] += 1\n",
    "        elif i == 'u' or i == 'U':\n",
    "            dic['U'] += 1\n",
    "\n",
    "    x = max(dic.values())\n",
    "    result = []\n",
    "    for i, j in dic.items():\n",
    "        if j == x:\n",
    "            result.append(i)\n",
    "\n",
    "    return result\n",
    "\n",
    "\n",
    "i_p = [\n",
    "    [\"Deekshu\", \"I love food.\"],\n",
    "    [\"Putti\", \"A lovely sunny day at the beach.\"],\n",
    "    [\"Bhanu\", \"Coding is my favorite thing to do.\"],\n",
    "    [\"Harshi\", \"I love to watch movies .\"],\n",
    "    [\"Vishwa\", \"Exploring new cities is exciting and fun.\"]\n",
    "]\n",
    "\n",
    "o_p = {}\n",
    "\n",
    "for i in i_p:\n",
    "    o_p[i[0]] = count_vowel(i[1])\n",
    "\n",
    "print(o_p)"
   ]
  },
  {
   "cell_type": "code",
   "execution_count": 1,
   "id": "447abb68",
   "metadata": {},
   "outputs": [
    {
     "name": "stdout",
     "output_type": "stream",
     "text": [
      "a\n",
      "['A']\n"
     ]
    }
   ],
   "source": [
    "S= input()\n",
    "dic = {'A':0,'E':0,'I':0,'O':0,'U':0}\n",
    "for i in S:\n",
    "    if i == 'a' or i == 'A':\n",
    "        dic['A'] += 1\n",
    "    elif i == 'e' or i == 'E':\n",
    "        dic['E'] += 1\n",
    "    elif i == 'i' or i == 'I':\n",
    "        dic['I'] += 1\n",
    "    elif i == 'o' or i == 'O':\n",
    "        dic['O'] += 1\n",
    "    elif i == 'u' or i == 'U':\n",
    "        dic['U'] += 1\n",
    "\n",
    "x=max(dic.values())\n",
    "result =[]\n",
    "for i,j in dic.items():\n",
    "    if j == x:\n",
    "        result.append(i)\n",
    "\n",
    "print(result)"
   ]
  },
  {
   "cell_type": "code",
   "execution_count": 2,
   "id": "9a9740d0",
   "metadata": {},
   "outputs": [
    {
     "name": "stdout",
     "output_type": "stream",
     "text": [
      "17 4 6 7\n"
     ]
    }
   ],
   "source": [
    "l=[2,4,3,5,6,3,4,6,7,1,2,5]\n",
    "sum = max = 0\n",
    "for i in range(0,len(l)-2):\n",
    "    sum = l[i]+l[i+1]+l[i+2]\n",
    "    if max<sum:\n",
    "        max = sum\n",
    "        pos=i\n",
    "\n",
    "print(max,l[pos],l[pos+1],l[pos+2])\n",
    "\n"
   ]
  },
  {
   "cell_type": "code",
   "execution_count": 7,
   "id": "8944f71a",
   "metadata": {},
   "outputs": [
    {
     "name": "stdout",
     "output_type": "stream",
     "text": [
      "Enter the no of continious digit: 6\n",
      "12\n",
      "31\n",
      "5\n",
      "6\n",
      "3\n",
      "4\n",
      "6\n",
      "7\n"
     ]
    }
   ],
   "source": [
    "l=[2,4,3,5,6,3,4,6,7,1,2,5]\n",
    "sum = max = 0\n",
    "k = int(input(\"Enter the no of continious digit: \"))\n",
    "print(len(l))\n",
    "for i in range(0,len(l)-k+1):\n",
    "    sum = 0\n",
    "    for j in range(0,k):\n",
    "        sum+=l[i+j]\n",
    "    if max<sum:\n",
    "        max = sum\n",
    "        pos=i\n",
    "\n",
    "print(max)\n",
    "for j in range(0,k):\n",
    "    print(l[pos+j])"
   ]
  },
  {
   "cell_type": "code",
   "execution_count": 6,
   "id": "203c8601",
   "metadata": {},
   "outputs": [
    {
     "name": "stdout",
     "output_type": "stream",
     "text": [
      "Enter the no of continious digit: 10\n",
      "result\n",
      "61\n",
      "3\n",
      "5\n",
      "6\n",
      "3\n",
      "4\n",
      "6\n",
      "7\n",
      "9\n",
      "9\n",
      "9\n"
     ]
    }
   ],
   "source": [
    "l=[2,4,3,5,6,3,4,6,7,9,9,9]\n",
    "window = max = 0\n",
    "k = int(input(\"Enter the no of continious digit: \"))\n",
    "\n",
    "for j in range(0,k):\n",
    "        window+=l[j]\n",
    "l.append(0)\n",
    "for i in range(0,len(l)-k):\n",
    "    if max<window:\n",
    "        max=window\n",
    "        pos=i\n",
    "    window = window+l[i+k]-l[i]\n",
    "\n",
    "print(\"result\")\n",
    "print(max)\n",
    "for j in range(0,k):\n",
    "    print(l[pos+j])"
   ]
  },
  {
   "cell_type": "code",
   "execution_count": null,
   "id": "c9bbac5d",
   "metadata": {},
   "outputs": [],
   "source": []
  }
 ],
 "metadata": {
  "kernelspec": {
   "display_name": "Python 3 (ipykernel)",
   "language": "python",
   "name": "python3"
  },
  "language_info": {
   "codemirror_mode": {
    "name": "ipython",
    "version": 3
   },
   "file_extension": ".py",
   "mimetype": "text/x-python",
   "name": "python",
   "nbconvert_exporter": "python",
   "pygments_lexer": "ipython3",
   "version": "3.11.5"
  }
 },
 "nbformat": 4,
 "nbformat_minor": 5
}
