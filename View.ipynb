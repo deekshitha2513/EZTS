{
 "cells": [
  {
   "cell_type": "code",
   "execution_count": 3,
   "id": "5123fab6",
   "metadata": {},
   "outputs": [
    {
     "data": {
      "text/plain": [
       "7"
      ]
     },
     "execution_count": 3,
     "metadata": {},
     "output_type": "execute_result"
    }
   ],
   "source": [
    "# HEIGHT\n",
    "\n",
    "class node:\n",
    "    def __init__(self,data):\n",
    "        self.value=data\n",
    "        self.left=None\n",
    "        self.right=None\n",
    "        \n",
    "def Height(root):\n",
    "    if root==None:\n",
    "        return 0\n",
    "    LH=Height(root.left)\n",
    "    RH=Height(root.right)\n",
    "    return max(LH,RH)+1\n",
    "\n",
    "if __name__==\"__main__\":\n",
    "    root=node(1)\n",
    "    \n",
    "    root.left=node(2)\n",
    "    root.right=node(5)\n",
    "    \n",
    "    root.left.left=node(3)\n",
    "    root.left.right=node(4)\n",
    "    \n",
    "    #root.right.left=node(6)\n",
    "    root.right.right=node(6)\n",
    "    \n",
    "    root.left.right.left=node(9)\n",
    "    root.right.right.left=node(7)\n",
    "    root.right.right.right=node(8)\n",
    "    \n",
    "    root.left.right.left.right=node(10)\n",
    "    \n",
    "    root.right.right.left.right=node(11)\n",
    "    \n",
    "    root.left.right.left.right.left=node(14)\n",
    "    root.right.right.left.right.left=node(12)\n",
    "    \n",
    "    root.right.right.left.right.left.right=node(13)\n",
    "Height(root)"
   ]
  },
  {
   "cell_type": "code",
   "execution_count": 4,
   "id": "c202e510",
   "metadata": {},
   "outputs": [
    {
     "name": "stdout",
     "output_type": "stream",
     "text": [
      "3\n",
      "2\n",
      "1\n",
      "5\n",
      "6\n",
      "8\n",
      "{0: 1, -1: 2, 1: 5, -2: 3, 2: 6, 3: 8}\n"
     ]
    }
   ],
   "source": [
    "#VIEW\n",
    "#TOP VIEW \n",
    "\n",
    "class node_data:\n",
    "    def __init__(self,Node,HKey):\n",
    "        self.node=Node\n",
    "        self.hkey=HKey\n",
    "\n",
    "def topview(root):        \n",
    "    temp=node_data(root,0) \n",
    "    Q=[temp]\n",
    "    Q.append(None)\n",
    "    Key_Dict = {}\n",
    "    while len(Q) != 0:\n",
    "        curr = Q.pop(0)\n",
    "        \n",
    "        if curr == None:\n",
    "            if len(Q) == 0:\n",
    "                break\n",
    "            else:\n",
    "                Q.append(None)\n",
    "        else:\n",
    "            if curr.hkey not in Key_Dict.keys():\n",
    "                Key_Dict[curr.hkey] = curr.node.value\n",
    "            \n",
    "            if curr.node.left != None:\n",
    "                temp = node_data(curr.node.left,curr.hkey-1)\n",
    "                Q.append(temp)\n",
    "            \n",
    "            if curr.node.right != None:\n",
    "                temp = node_data(curr.node.right,curr.hkey+1)\n",
    "                Q.append(temp)\n",
    "    for i in sorted(Key_Dict):\n",
    "        print(Key_Dict[i])\n",
    "    print(Key_Dict)\n",
    "topview(root)"
   ]
  },
  {
   "cell_type": "code",
   "execution_count": 5,
   "id": "fc168031",
   "metadata": {},
   "outputs": [
    {
     "name": "stdout",
     "output_type": "stream",
     "text": [
      "3\n",
      "14\n",
      "10\n",
      "12\n",
      "13\n",
      "8\n",
      "{0: 10, -1: 14, 1: 12, -2: 3, 2: 13, 3: 8}\n"
     ]
    }
   ],
   "source": [
    "# BOTTOM VIEW\n",
    "\n",
    "class node_data:\n",
    "    def __init__(self,Node,HKey):\n",
    "        self.node=Node\n",
    "        self.hkey=HKey\n",
    "\n",
    "def bottomview(root):        \n",
    "    temp=node_data(root,0) \n",
    "    Q=[temp]\n",
    "    Q.append(None)\n",
    "    Key_Dict = {}\n",
    "    while len(Q) != 0:\n",
    "        curr = Q.pop(0)\n",
    "        \n",
    "        if curr == None:\n",
    "            if len(Q) == 0:\n",
    "                break\n",
    "            else:\n",
    "                Q.append(None)\n",
    "        else:\n",
    "            #if curr.hkey not in Key_Dict.keys():\n",
    "            Key_Dict[curr.hkey] = curr.node.value\n",
    "            \n",
    "            if curr.node.left != None:\n",
    "                temp = node_data(curr.node.left,curr.hkey-1)\n",
    "                Q.append(temp)\n",
    "            \n",
    "            if curr.node.right != None:\n",
    "                temp = node_data(curr.node.right,curr.hkey+1)\n",
    "                Q.append(temp)\n",
    "    for i in sorted(Key_Dict):\n",
    "        print(Key_Dict[i])\n",
    "    print(Key_Dict)\n",
    "bottomview(root)"
   ]
  },
  {
   "cell_type": "code",
   "execution_count": 6,
   "id": "4143a3a1",
   "metadata": {},
   "outputs": [
    {
     "name": "stdout",
     "output_type": "stream",
     "text": [
      "1\n",
      "2\n",
      "4\n",
      "9\n",
      "12\n"
     ]
    }
   ],
   "source": [
    "# LEFT VIEW\n",
    "\n",
    "class node:\n",
    "    def __init__(self,data):\n",
    "        self.value=data\n",
    "        self.left=None\n",
    "        self.right=None\n",
    "\n",
    "def left_view(root):\n",
    "    Q=[root]\n",
    "    Q.append(None)\n",
    "    \n",
    "    while len(Q)>0:\n",
    "        curr=Q.pop(0)\n",
    "        \n",
    "        if curr==None:\n",
    "            if len(Q)==0:\n",
    "                break\n",
    "            else:\n",
    "                print(Q[0].value)\n",
    "                Q.append(None)\n",
    "        else:\n",
    "            #print(curr.value,end=\" \")\n",
    "            if curr.left!=None:\n",
    "                Q.append(curr.left)\n",
    "            if curr.right!=None:\n",
    "                Q.append(curr.right)\n",
    "\n",
    "if __name__==\"__main__\":\n",
    "    root=node(1)\n",
    "    \n",
    "    root.left=node(2)\n",
    "    root.right=node(3)\n",
    "    \n",
    "    root.left.left=node(4)\n",
    "    root.left.right=node(5)\n",
    "    \n",
    "    root.right.left=node(6)\n",
    "    root.right.right=node(7)\n",
    "    \n",
    "    root.left.right.left=node(9)\n",
    "    root.left.right.right=node(10)\n",
    "    \n",
    "    root.right.right.right=node(11)\n",
    "    \n",
    "    root.left.right.left.left=node(12)\n",
    "    root.left.right.left.right=node(13)\n",
    "    print(root.value)\n",
    "left_view(root)"
   ]
  },
  {
   "cell_type": "code",
   "execution_count": null,
   "id": "e804b936",
   "metadata": {},
   "outputs": [],
   "source": []
  }
 ],
 "metadata": {
  "kernelspec": {
   "display_name": "Python 3 (ipykernel)",
   "language": "python",
   "name": "python3"
  },
  "language_info": {
   "codemirror_mode": {
    "name": "ipython",
    "version": 3
   },
   "file_extension": ".py",
   "mimetype": "text/x-python",
   "name": "python",
   "nbconvert_exporter": "python",
   "pygments_lexer": "ipython3",
   "version": "3.11.5"
  }
 },
 "nbformat": 4,
 "nbformat_minor": 5
}
