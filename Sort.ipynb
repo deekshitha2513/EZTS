{
 "cells": [
  {
   "cell_type": "code",
   "execution_count": 3,
   "id": "a856cb79",
   "metadata": {},
   "outputs": [
    {
     "name": "stdout",
     "output_type": "stream",
     "text": [
      "3 4 6 7 2 1 8 9\n",
      "[1, 2, 3, 4, 6, 7, 8, 9]\n"
     ]
    }
   ],
   "source": [
    "#bubble sort\n",
    "\n",
    "L=list(map(int,input().split()))\n",
    "n=len(L)\n",
    "for j in range(0,n):\n",
    "    for i in range(0,n-1-j):\n",
    "        if L[i]>L[i+1]:\n",
    "            L[i],L[i+1]=L[i+1],L[i]\n",
    "\n",
    "print(L)"
   ]
  },
  {
   "cell_type": "code",
   "execution_count": 4,
   "id": "63e807f8",
   "metadata": {},
   "outputs": [
    {
     "name": "stdout",
     "output_type": "stream",
     "text": [
      "2\n",
      "1\n",
      "[1]\n"
     ]
    }
   ],
   "source": [
    "#recursion fib  Series\n",
    "\n",
    "t=[0]\n",
    "\n",
    "def fib(n):\n",
    "    t[0]+=1\n",
    "    if n == 1:\n",
    "        return 0\n",
    "    if n == 2:\n",
    "        return 1\n",
    "    return fib(n-1)+fib(n-2)\n",
    "\n",
    "if __name__ == \"__main__\":\n",
    "    n= int(input())\n",
    "    print(fib(n))\n",
    "    print(t)"
   ]
  },
  {
   "cell_type": "code",
   "execution_count": 5,
   "id": "b19d9b5e",
   "metadata": {},
   "outputs": [
    {
     "name": "stdout",
     "output_type": "stream",
     "text": [
      "1 2 6 7 3 8 9 5  12 11\n",
      "Sorted Array =  [1, 2, 3, 5, 6, 7, 8, 9, 11, 12]\n"
     ]
    }
   ],
   "source": [
    "#Quick Sort\n",
    "\n",
    "\n",
    "def divide(L,Low,High):\n",
    "    P=L[High]\n",
    "    Pi=High\n",
    "    j=Low-1\n",
    "    for i in range (Low,High):\n",
    "        if L[i]<=P:\n",
    "            j+=1\n",
    "            L[i],L[j]=L[j],L[i]\n",
    "    j+=1\n",
    "    L[j],L[Pi]=L[Pi],L[j]\n",
    "    Pi=j\n",
    "    return Pi\n",
    "\n",
    "def Quick_Sort(L,Low,High):\n",
    "    if Low<High:\n",
    "        pi=divide(L,Low,High)\n",
    "        Quick_Sort(L,Low,pi-1)\n",
    "        Quick_Sort(L,pi+1,High)\n",
    "    return    \n",
    "\n",
    "\n",
    "if __name__==\"__main__\":\n",
    "    L=list(map(int,input().split())) #4 7 8 3 2 9 1 5\n",
    "    low=0\n",
    "    high= len(L)-1\n",
    "    Quick_Sort(L,low,high)\n",
    "\n",
    "    print(\"Sorted Array = \",L)\n",
    "\n"
   ]
  },
  {
   "cell_type": "code",
   "execution_count": 6,
   "id": "715495a2",
   "metadata": {},
   "outputs": [
    {
     "name": "stdout",
     "output_type": "stream",
     "text": [
      "3 4 2 13 12 34 56 22 1 7 \n",
      "Sorted Array =  [1, 2, 3, 4, 7, 12, 13, 22, 34, 56]\n"
     ]
    }
   ],
   "source": [
    "#merge Sort\n",
    "\n",
    "\n",
    "def merge(left,right):\n",
    "    i=j=0\n",
    "    temp=[]\n",
    "\n",
    "    while i<len(left) and j<len(right):\n",
    "        if left[i]<right[j]:\n",
    "            temp.append(left[i])\n",
    "            i+=1\n",
    "        else:\n",
    "            temp.append(right[j])\n",
    "            j+=1\n",
    "            \n",
    "    while i<len(left):\n",
    "        temp.append(left[i])\n",
    "        i+=1\n",
    "        \n",
    "    while j<len(right):\n",
    "        temp.append(right[j])\n",
    "        j+=1\n",
    "\n",
    "    return temp\n",
    "\n",
    "def mergesort(L):\n",
    "    if len(L) <= 1:\n",
    "        return L\n",
    "        \n",
    "    mid = len(L)//2\n",
    "    left=L[:mid] \n",
    "    right=L[mid:]\n",
    "    \n",
    "    left_sorted = mergesort(left)\n",
    "    right_sorted = mergesort(right)\n",
    "    \n",
    "    return merge(left_sorted,right_sorted)\n",
    "\n",
    "\n",
    "if __name__==\"__main__\":\n",
    "    L=list(map(int,input().split())) # 4 7 8 3 2 9 1 5\n",
    "    sorted=mergesort(L)\n",
    "\n",
    "    print(\"Sorted Array = \",sorted)"
   ]
  },
  {
   "cell_type": "code",
   "execution_count": null,
   "id": "a093009e",
   "metadata": {},
   "outputs": [],
   "source": []
  }
 ],
 "metadata": {
  "kernelspec": {
   "display_name": "Python 3 (ipykernel)",
   "language": "python",
   "name": "python3"
  },
  "language_info": {
   "codemirror_mode": {
    "name": "ipython",
    "version": 3
   },
   "file_extension": ".py",
   "mimetype": "text/x-python",
   "name": "python",
   "nbconvert_exporter": "python",
   "pygments_lexer": "ipython3",
   "version": "3.11.5"
  }
 },
 "nbformat": 4,
 "nbformat_minor": 5
}
