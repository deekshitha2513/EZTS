{
 "cells": [
  {
   "cell_type": "code",
   "execution_count": 1,
   "id": "70ca4c43",
   "metadata": {},
   "outputs": [
    {
     "name": "stdout",
     "output_type": "stream",
     "text": [
      "[10, 20, 30, 40]\n",
      "40\n",
      "[10, 20, 30]\n",
      "3\n"
     ]
    }
   ],
   "source": [
    "class Stack:\n",
    "    def __init__(self):\n",
    "        self.items = []\n",
    "    def push(self,data):\n",
    "        self.items.append(data)\n",
    "    def pop(self):\n",
    "        return self.items.pop()\n",
    "    def size(self):\n",
    "        return len(self.items)\n",
    "    \n",
    "\n",
    "\n",
    "S=Stack()\n",
    "\n",
    "S.push(10)\n",
    "S.push(20)\n",
    "S.push(30)\n",
    "S.push(40)\n",
    "print(S.items)\n",
    "print(S.pop())\n",
    "print(S.items)\n",
    "print(S.size())\n"
   ]
  },
  {
   "cell_type": "code",
   "execution_count": 2,
   "id": "2bd9ed60",
   "metadata": {},
   "outputs": [
    {
     "name": "stdout",
     "output_type": "stream",
     "text": [
      "Valid\n",
      "0\n"
     ]
    }
   ],
   "source": [
    "e= \"[3+7{52/11(3+5)}]\"\n",
    "S=Stack()\n",
    "OB=\"[{(\"\n",
    "CB = \")}]\"\n",
    "flag = 0\n",
    "for i in e:\n",
    "    if i in OB:\n",
    "        S.push(i)\n",
    "    if i in CB:\n",
    "        x = S.pop()\n",
    "        if x==\"(\" and i == \")\":\n",
    "            pass\n",
    "        elif x==\"{\" and i == \"}\":\n",
    "            pass\n",
    "        elif x==\"[\" and i == \"]\":\n",
    "            pass\n",
    "        else:\n",
    "            flag = 1\n",
    "            break\n",
    "\n",
    "if flag == 0 and S.size()==0:\n",
    "    print(\"Valid\")\n",
    "else:\n",
    "    print(\"invalid\")\n",
    "\n",
    "print(S.size())"
   ]
  },
  {
   "cell_type": "code",
   "execution_count": 3,
   "id": "53283862",
   "metadata": {},
   "outputs": [
    {
     "name": "stdout",
     "output_type": "stream",
     "text": [
      "[5, 14, 14, -1, 7, 7, 9, -1, 6, 9, -1, 5, 5, -1, -1]\n"
     ]
    }
   ],
   "source": [
    "class Stack:\n",
    "    def __init__(self):\n",
    "        self.items = []\n",
    "    def push(self,data):\n",
    "        self.items.append(data)\n",
    "    def pop(self):\n",
    "        return self.items.pop()\n",
    "    def size(self):\n",
    "        return len(self.items)\n",
    "    def top(self):\n",
    "        return self.items[-1]\n",
    "\n",
    "        \n",
    "L= [3,5,2,14,5,3,7,9,4,6,9,4,2,5,3]\n",
    "O=[0]*len(L)\n",
    "s= Stack()\n",
    "for i in range(len(L)-1,-1,-1):\n",
    "    if s.size() != 0:\n",
    "        while s.size() !=0 and s.top()<=L[i]:\n",
    "            if s.top() <= L[i]:\n",
    "                s.pop()\n",
    "    if s.size() == 0:\n",
    "        O[i]=-1\n",
    "    else:\n",
    "        O[i]=s.top()\n",
    "    s.push(L[i])\n",
    "print(O)"
   ]
  },
  {
   "cell_type": "code",
   "execution_count": null,
   "id": "d591cbf5",
   "metadata": {},
   "outputs": [],
   "source": []
  }
 ],
 "metadata": {
  "kernelspec": {
   "display_name": "Python 3 (ipykernel)",
   "language": "python",
   "name": "python3"
  },
  "language_info": {
   "codemirror_mode": {
    "name": "ipython",
    "version": 3
   },
   "file_extension": ".py",
   "mimetype": "text/x-python",
   "name": "python",
   "nbconvert_exporter": "python",
   "pygments_lexer": "ipython3",
   "version": "3.11.5"
  }
 },
 "nbformat": 4,
 "nbformat_minor": 5
}
