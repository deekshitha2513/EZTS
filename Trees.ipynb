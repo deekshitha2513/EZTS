{
 "cells": [
  {
   "cell_type": "markdown",
   "id": "b1b061b9",
   "metadata": {},
   "source": [
    "## height"
   ]
  },
  {
   "cell_type": "code",
   "execution_count": 1,
   "id": "70d9e0d3",
   "metadata": {},
   "outputs": [
    {
     "name": "stdout",
     "output_type": "stream",
     "text": [
      "7\n"
     ]
    }
   ],
   "source": [
    "class node:\n",
    "    def __init__(self,data):\n",
    "        self.value = data\n",
    "        self.left = None\n",
    "        self.right = None\n",
    "\n",
    "\n",
    "def height(root):\n",
    "    if root == None:\n",
    "        return 0\n",
    "    lh=height(root.left)\n",
    "    rh=height(root.right)\n",
    "    return max(lh,rh)+1\n",
    "\n",
    "\n",
    "if __name__ == \"__main__\":\n",
    "    root = node(1)\n",
    "    root.left = node(2)\n",
    "    root.right = node(5)\n",
    "    root.left.left = node(3)\n",
    "    root.left.right = node(4)\n",
    "    root.right.right = node(6)\n",
    "    root.left.right.left = node(9)\n",
    "    root.right.right.left= node(7)\n",
    "    root.right.right.right = node(8)\n",
    "    root.left.right.left.right = node(10)\n",
    "    root.right.right.left.right = node(11)\n",
    "    root.right.right.left.right.left = node(12)\n",
    "    root.right.right.left.right.left.right = node(13)\n",
    "    root.left.right.left.right.left = node(14)\n",
    "\n",
    "    res=height(root)\n",
    "    print(res)"
   ]
  },
  {
   "cell_type": "code",
   "execution_count": 2,
   "id": "e1b55e4f",
   "metadata": {},
   "outputs": [
    {
     "name": "stdout",
     "output_type": "stream",
     "text": [
      "3\n",
      "14\n",
      "13\n",
      "8\n"
     ]
    }
   ],
   "source": [
    "#left_elements\n",
    "\n",
    "class node:\n",
    "    def __init__(self,data):\n",
    "        self.value = data\n",
    "        self.left = None\n",
    "        self.right = None\n",
    "\n",
    "\n",
    "def leaf(root):\n",
    "    if root == None:\n",
    "        return 0\n",
    "    leaf(root.left)\n",
    "    leaf(root.right)\n",
    "    if root.left == None and root.right == None:\n",
    "        print(root.value)\n",
    "\n",
    "if __name__ == \"__main__\":\n",
    "    root = node(1)\n",
    "    root.left = node(2)\n",
    "    root.right = node(5)\n",
    "    root.left.left = node(3)\n",
    "    root.left.right = node(4)\n",
    "    root.right.right = node(6)\n",
    "    root.left.right.left = node(9)\n",
    "    root.right.right.left= node(7)\n",
    "    root.right.right.right = node(8)\n",
    "    root.left.right.left.right = node(10)\n",
    "    root.right.right.left.right = node(11)\n",
    "    root.right.right.left.right.left = node(12)\n",
    "    root.right.right.left.right.left.right = node(13)\n",
    "    root.left.right.left.right.left = node(14)\n",
    "\n",
    "    leaf(root)"
   ]
  },
  {
   "cell_type": "code",
   "execution_count": 3,
   "id": "c4218349",
   "metadata": {},
   "outputs": [
    {
     "name": "stdout",
     "output_type": "stream",
     "text": [
      "1 \n",
      "2 3 \n",
      "4 5 6 7 \n",
      "9 10 11 \n",
      "12 13 "
     ]
    }
   ],
   "source": [
    "#level_order\n",
    "\n",
    "def levelorder(root):\n",
    "    q = [root]\n",
    "    q.append(None)\n",
    "\n",
    "    while len(q)>0:\n",
    "        curr = q.pop(0)\n",
    "\n",
    "        if curr == None:\n",
    "            if len(q)==0:\n",
    "               break\n",
    "            else:\n",
    "                print()\n",
    "                q.append(None)\n",
    "        else:\n",
    "            print(curr.value,end =\" \")\n",
    "            if curr.left != None:\n",
    "                q.append(curr.left)\n",
    "            if curr.right != None:\n",
    "                q.append(curr.right)\n",
    "\n",
    "if __name__ == \"__main__\":\n",
    "    root = node(1)\n",
    "    root.left = node(2)\n",
    "    root.right = node(3)\n",
    "    root.left.left = node(4)\n",
    "    root.left.right = node(5)\n",
    "    root.right.left = node(6)\n",
    "    root.right.right = node(7)\n",
    "    root.left.right.left = node(9)\n",
    "    root.left.right.right = node(10)\n",
    "    root.right.right.right = node(11)\n",
    "    root.left.right.left.left = node(12)\n",
    "    root.left.right.left.right = node(13)\n",
    "\n",
    "    levelorder(root)"
   ]
  },
  {
   "cell_type": "code",
   "execution_count": 4,
   "id": "6971e9e1",
   "metadata": {},
   "outputs": [
    {
     "name": "stdout",
     "output_type": "stream",
     "text": [
      "preorder\n",
      "1\n",
      "2\n",
      "4\n",
      "5\n",
      "3\n",
      "6\n",
      "7\n",
      "inorder\n",
      "4\n",
      "2\n",
      "5\n",
      "1\n",
      "6\n",
      "3\n",
      "7\n",
      "postorder\n",
      "4\n",
      "5\n",
      "2\n",
      "6\n",
      "7\n",
      "3\n",
      "1\n"
     ]
    }
   ],
   "source": [
    "class node:\n",
    "    def __init__(self,data):\n",
    "        self.value = data\n",
    "        self.left = None\n",
    "        self.right = None\n",
    "\n",
    "def preorder(root):\n",
    "    if root == None:\n",
    "        return\n",
    "    print(root.value)\n",
    "    preorder(root.left)\n",
    "    preorder(root.right)\n",
    "\n",
    "\n",
    "def inorder(root):\n",
    "    if root == None:\n",
    "        return\n",
    "    inorder(root.left)\n",
    "    print(root.value)\n",
    "    inorder(root.right)\n",
    "\n",
    "\n",
    "def postorder(root):\n",
    "    if root == None:\n",
    "        return\n",
    "    postorder(root.left)\n",
    "    postorder(root.right)\n",
    "    print(root.value)\n",
    "\n",
    "\n",
    "if __name__ == \"__main__\":\n",
    "    root = node(1)\n",
    "    root.left = node(2)\n",
    "    root.right = node(3)\n",
    "    root.left.left = node(4)\n",
    "    root.left.right = node(5)\n",
    "    root.right.left = node(6)\n",
    "    root.right.right = node(7)\n",
    "\n",
    "    print(\"preorder\")\n",
    "    preorder(root)\n",
    "    print(\"inorder\")\n",
    "    inorder(root)\n",
    "    print(\"postorder\")\n",
    "    postorder(root)"
   ]
  },
  {
   "cell_type": "code",
   "execution_count": null,
   "id": "9d72989a",
   "metadata": {},
   "outputs": [],
   "source": []
  }
 ],
 "metadata": {
  "kernelspec": {
   "display_name": "Python 3 (ipykernel)",
   "language": "python",
   "name": "python3"
  },
  "language_info": {
   "codemirror_mode": {
    "name": "ipython",
    "version": 3
   },
   "file_extension": ".py",
   "mimetype": "text/x-python",
   "name": "python",
   "nbconvert_exporter": "python",
   "pygments_lexer": "ipython3",
   "version": "3.11.5"
  }
 },
 "nbformat": 4,
 "nbformat_minor": 5
}
